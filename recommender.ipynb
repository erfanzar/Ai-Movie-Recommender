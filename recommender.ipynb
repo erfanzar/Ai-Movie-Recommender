{
 "cells": [
  {
   "cell_type": "code",
   "execution_count": 208,
   "outputs": [],
   "source": [
    "import torch\n",
    "import torch.nn as nn\n",
    "import torch.optim as optim\n",
    "import json\n",
    "from torch.utils.data import DataLoader, Dataset\n",
    "import random\n",
    "import time\n",
    "import ast\n",
    "import numpy as np\n",
    "from tqdm import tqdm\n",
    "import pandas as pd\n",
    "from IPython.display import display, clear_output"
   ],
   "metadata": {
    "collapsed": false,
    "pycharm": {
     "name": "#%%\n"
    }
   }
  },
  {
   "cell_type": "code",
   "execution_count": 209,
   "outputs": [
    {
     "data": {
      "text/plain": "   adult                              belongs_to_collection    budget  \\\n0  False  {'id': 10194, 'name': 'Toy Story Collection', ...  30000000   \n1  False                                                NaN  65000000   \n2  False  {'id': 119050, 'name': 'Grumpy Old Men Collect...         0   \n3  False                                                NaN  16000000   \n4  False  {'id': 96871, 'name': 'Father of the Bride Col...         0   \n\n                                              genres  \\\n0  [{'id': 16, 'name': 'Animation'}, {'id': 35, '...   \n1  [{'id': 12, 'name': 'Adventure'}, {'id': 14, '...   \n2  [{'id': 10749, 'name': 'Romance'}, {'id': 35, ...   \n3  [{'id': 35, 'name': 'Comedy'}, {'id': 18, 'nam...   \n4                     [{'id': 35, 'name': 'Comedy'}]   \n\n                               homepage     id    imdb_id original_language  \\\n0  http://toystory.disney.com/toy-story    862  tt0114709                en   \n1                                   NaN   8844  tt0113497                en   \n2                                   NaN  15602  tt0113228                en   \n3                                   NaN  31357  tt0114885                en   \n4                                   NaN  11862  tt0113041                en   \n\n                original_title  \\\n0                    Toy Story   \n1                      Jumanji   \n2             Grumpier Old Men   \n3            Waiting to Exhale   \n4  Father of the Bride Part II   \n\n                                            overview  ... release_date  \\\n0  Led by Woody, Andy's toys live happily in his ...  ...   1995-10-30   \n1  When siblings Judy and Peter discover an encha...  ...   1995-12-15   \n2  A family wedding reignites the ancient feud be...  ...   1995-12-22   \n3  Cheated on, mistreated and stepped on, the wom...  ...   1995-12-22   \n4  Just when George Banks has recovered from his ...  ...   1995-02-10   \n\n       revenue runtime                                   spoken_languages  \\\n0  373554033.0    81.0           [{'iso_639_1': 'en', 'name': 'English'}]   \n1  262797249.0   104.0  [{'iso_639_1': 'en', 'name': 'English'}, {'iso...   \n2          0.0   101.0           [{'iso_639_1': 'en', 'name': 'English'}]   \n3   81452156.0   127.0           [{'iso_639_1': 'en', 'name': 'English'}]   \n4   76578911.0   106.0           [{'iso_639_1': 'en', 'name': 'English'}]   \n\n     status                                            tagline  \\\n0  Released                                                NaN   \n1  Released          Roll the dice and unleash the excitement!   \n2  Released  Still Yelling. Still Fighting. Still Ready for...   \n3  Released  Friends are the people who let you be yourself...   \n4  Released  Just When His World Is Back To Normal... He's ...   \n\n                         title  video vote_average vote_count  \n0                    Toy Story  False          7.7     5415.0  \n1                      Jumanji  False          6.9     2413.0  \n2             Grumpier Old Men  False          6.5       92.0  \n3            Waiting to Exhale  False          6.1       34.0  \n4  Father of the Bride Part II  False          5.7      173.0  \n\n[5 rows x 24 columns]",
      "text/html": "<div>\n<style scoped>\n    .dataframe tbody tr th:only-of-type {\n        vertical-align: middle;\n    }\n\n    .dataframe tbody tr th {\n        vertical-align: top;\n    }\n\n    .dataframe thead th {\n        text-align: right;\n    }\n</style>\n<table border=\"1\" class=\"dataframe\">\n  <thead>\n    <tr style=\"text-align: right;\">\n      <th></th>\n      <th>adult</th>\n      <th>belongs_to_collection</th>\n      <th>budget</th>\n      <th>genres</th>\n      <th>homepage</th>\n      <th>id</th>\n      <th>imdb_id</th>\n      <th>original_language</th>\n      <th>original_title</th>\n      <th>overview</th>\n      <th>...</th>\n      <th>release_date</th>\n      <th>revenue</th>\n      <th>runtime</th>\n      <th>spoken_languages</th>\n      <th>status</th>\n      <th>tagline</th>\n      <th>title</th>\n      <th>video</th>\n      <th>vote_average</th>\n      <th>vote_count</th>\n    </tr>\n  </thead>\n  <tbody>\n    <tr>\n      <th>0</th>\n      <td>False</td>\n      <td>{'id': 10194, 'name': 'Toy Story Collection', ...</td>\n      <td>30000000</td>\n      <td>[{'id': 16, 'name': 'Animation'}, {'id': 35, '...</td>\n      <td>http://toystory.disney.com/toy-story</td>\n      <td>862</td>\n      <td>tt0114709</td>\n      <td>en</td>\n      <td>Toy Story</td>\n      <td>Led by Woody, Andy's toys live happily in his ...</td>\n      <td>...</td>\n      <td>1995-10-30</td>\n      <td>373554033.0</td>\n      <td>81.0</td>\n      <td>[{'iso_639_1': 'en', 'name': 'English'}]</td>\n      <td>Released</td>\n      <td>NaN</td>\n      <td>Toy Story</td>\n      <td>False</td>\n      <td>7.7</td>\n      <td>5415.0</td>\n    </tr>\n    <tr>\n      <th>1</th>\n      <td>False</td>\n      <td>NaN</td>\n      <td>65000000</td>\n      <td>[{'id': 12, 'name': 'Adventure'}, {'id': 14, '...</td>\n      <td>NaN</td>\n      <td>8844</td>\n      <td>tt0113497</td>\n      <td>en</td>\n      <td>Jumanji</td>\n      <td>When siblings Judy and Peter discover an encha...</td>\n      <td>...</td>\n      <td>1995-12-15</td>\n      <td>262797249.0</td>\n      <td>104.0</td>\n      <td>[{'iso_639_1': 'en', 'name': 'English'}, {'iso...</td>\n      <td>Released</td>\n      <td>Roll the dice and unleash the excitement!</td>\n      <td>Jumanji</td>\n      <td>False</td>\n      <td>6.9</td>\n      <td>2413.0</td>\n    </tr>\n    <tr>\n      <th>2</th>\n      <td>False</td>\n      <td>{'id': 119050, 'name': 'Grumpy Old Men Collect...</td>\n      <td>0</td>\n      <td>[{'id': 10749, 'name': 'Romance'}, {'id': 35, ...</td>\n      <td>NaN</td>\n      <td>15602</td>\n      <td>tt0113228</td>\n      <td>en</td>\n      <td>Grumpier Old Men</td>\n      <td>A family wedding reignites the ancient feud be...</td>\n      <td>...</td>\n      <td>1995-12-22</td>\n      <td>0.0</td>\n      <td>101.0</td>\n      <td>[{'iso_639_1': 'en', 'name': 'English'}]</td>\n      <td>Released</td>\n      <td>Still Yelling. Still Fighting. Still Ready for...</td>\n      <td>Grumpier Old Men</td>\n      <td>False</td>\n      <td>6.5</td>\n      <td>92.0</td>\n    </tr>\n    <tr>\n      <th>3</th>\n      <td>False</td>\n      <td>NaN</td>\n      <td>16000000</td>\n      <td>[{'id': 35, 'name': 'Comedy'}, {'id': 18, 'nam...</td>\n      <td>NaN</td>\n      <td>31357</td>\n      <td>tt0114885</td>\n      <td>en</td>\n      <td>Waiting to Exhale</td>\n      <td>Cheated on, mistreated and stepped on, the wom...</td>\n      <td>...</td>\n      <td>1995-12-22</td>\n      <td>81452156.0</td>\n      <td>127.0</td>\n      <td>[{'iso_639_1': 'en', 'name': 'English'}]</td>\n      <td>Released</td>\n      <td>Friends are the people who let you be yourself...</td>\n      <td>Waiting to Exhale</td>\n      <td>False</td>\n      <td>6.1</td>\n      <td>34.0</td>\n    </tr>\n    <tr>\n      <th>4</th>\n      <td>False</td>\n      <td>{'id': 96871, 'name': 'Father of the Bride Col...</td>\n      <td>0</td>\n      <td>[{'id': 35, 'name': 'Comedy'}]</td>\n      <td>NaN</td>\n      <td>11862</td>\n      <td>tt0113041</td>\n      <td>en</td>\n      <td>Father of the Bride Part II</td>\n      <td>Just when George Banks has recovered from his ...</td>\n      <td>...</td>\n      <td>1995-02-10</td>\n      <td>76578911.0</td>\n      <td>106.0</td>\n      <td>[{'iso_639_1': 'en', 'name': 'English'}]</td>\n      <td>Released</td>\n      <td>Just When His World Is Back To Normal... He's ...</td>\n      <td>Father of the Bride Part II</td>\n      <td>False</td>\n      <td>5.7</td>\n      <td>173.0</td>\n    </tr>\n  </tbody>\n</table>\n<p>5 rows × 24 columns</p>\n</div>"
     },
     "execution_count": 209,
     "metadata": {},
     "output_type": "execute_result"
    }
   ],
   "source": [
    "data_csv = pd.read_csv('movies_metadata.csv', low_memory=False)\n",
    "data_csv.head()"
   ],
   "metadata": {
    "collapsed": false,
    "pycharm": {
     "name": "#%%\n"
    }
   }
  },
  {
   "cell_type": "code",
   "execution_count": 210,
   "outputs": [],
   "source": [
    "data_csv = data_csv.drop('imdb_id', axis=1)\n",
    "data_csv = data_csv.drop('id', axis=1)\n",
    "data_csv = data_csv.drop('poster_path', axis=1)\n",
    "data_csv = data_csv.drop('homepage', axis=1)"
   ],
   "metadata": {
    "collapsed": false,
    "pycharm": {
     "name": "#%%\n"
    }
   }
  },
  {
   "cell_type": "code",
   "execution_count": 211,
   "outputs": [
    {
     "data": {
      "text/plain": "Index(['adult', 'belongs_to_collection', 'budget', 'genres',\n       'original_language', 'original_title', 'overview', 'popularity',\n       'production_companies', 'production_countries', 'release_date',\n       'revenue', 'runtime', 'spoken_languages', 'status', 'tagline', 'title',\n       'video', 'vote_average', 'vote_count'],\n      dtype='object')"
     },
     "execution_count": 211,
     "metadata": {},
     "output_type": "execute_result"
    }
   ],
   "source": [
    "data_csv.keys()"
   ],
   "metadata": {
    "collapsed": false,
    "pycharm": {
     "name": "#%%\n"
    }
   }
  },
  {
   "cell_type": "code",
   "execution_count": 292,
   "outputs": [],
   "source": [
    "class DataSetManual(Dataset):\n",
    "    def __init__(self, data, vocab: dict = None):\n",
    "        super().__init__()\n",
    "        if vocab is not None:\n",
    "            self.vocab = vocab\n",
    "        else:\n",
    "            self.vocab = {}\n",
    "\n",
    "        self.adult = data['adult']\n",
    "        self.belongs_to_collection = data['belongs_to_collection']\n",
    "        self.budget = data['budget']\n",
    "        self.genres = data['genres']\n",
    "        self.original_language = data['original_language']\n",
    "        self.original_title = data['original_title']\n",
    "        self.overview = data['overview']\n",
    "        self.popularity = data['popularity']\n",
    "        self.production_companies = data['production_companies']\n",
    "        self.production_countries = data['production_countries']\n",
    "        self.release_date = data['release_date']\n",
    "        self.revenue = data['revenue']\n",
    "        self.runtime = data['runtime']\n",
    "        self.spoken_languages = data['spoken_languages']\n",
    "        self.status = data['status']\n",
    "        self.tagline = data['tagline']\n",
    "        self.tittle = data['title']\n",
    "        self.video = data['video']\n",
    "        self.vote_average = data['vote_average']\n",
    "        self.vote_count = data['vote_count']\n",
    "\n",
    "    def __len__(self):\n",
    "        return len(self.adult)\n",
    "\n",
    "    def translate(self, *arg: [dict, int, list]) -> str:\n",
    "        ...\n",
    "        simulation_list = list(self.vocab)\n",
    "        s_pr = []\n",
    "        arg = list(arg)\n",
    "\n",
    "        for i in range(len(arg)):\n",
    "\n",
    "            if isinstance(arg[i], int):\n",
    "                s_pr.append(simulation_list[arg[i]])\n",
    "            if isinstance(arg[i],list) or isinstance(arg[i],np.ndarray) or isinstance(arg[i], tuple):\n",
    "\n",
    "                for v in range(len(arg[i])):\n",
    "\n",
    "                    s_pr.append(simulation_list[int(arg[i][v])])\n",
    "        s_pr = str(s_pr)\n",
    "        s_pr = s_pr.replace(']','')\n",
    "        s_pr = s_pr.replace('[','')\n",
    "        s_pr = s_pr.replace(',','')\n",
    "        s_pr = s_pr.replace(\"'\",'')\n",
    "        s_pr = s_pr.replace('\"','')\n",
    "        return s_pr\n",
    "\n",
    "    def __getitem__(self, item):\n",
    "        #adult\n",
    "        item = int(item)\n",
    "        adult_out = []\n",
    "        adult = self.adult[item].lower()\n",
    "        if adult not in self.vocab:\n",
    "            self.vocab[adult] = len(self.vocab)\n",
    "        adult_out.append(self.vocab[adult])\n",
    "\n",
    "        # belongs_to_collection\n",
    "        belongs_to_collection_out = []\n",
    "        if not isinstance(self.belongs_to_collection[item], float):\n",
    "\n",
    "            sim = str(self.belongs_to_collection[item])\n",
    "            sim = ast.literal_eval(sim)\n",
    "            belongs_to_collection = sim['name'].lower().split()\n",
    "        else:\n",
    "            belongs_to_collection = ['nan']\n",
    "        for word in belongs_to_collection:\n",
    "            if word not in self.vocab:\n",
    "                self.vocab[word] = len(self.vocab)\n",
    "            belongs_to_collection_out.append(self.vocab[word])\n",
    "\n",
    "        genres_out = []\n",
    "        genres_names = []\n",
    "        genres_str = str(self.genres[item])\n",
    "        genres_json = ast.literal_eval(genres_str)\n",
    "        for i in range(len(genres_json)):\n",
    "            genres_names.append(genres_json[i]['name'].lower())\n",
    "\n",
    "        for word in genres_names:\n",
    "            if word not in self.vocab:\n",
    "                self.vocab[word] = len(self.vocab)\n",
    "            genres_out.append(self.vocab[word])\n",
    "\n",
    "        o_language_out = []\n",
    "        o_language = self.original_language[item]\n",
    "        o_language = o_language.lower().split()\n",
    "        for word in o_language:\n",
    "            if word not in self.vocab:\n",
    "                self.vocab[word] = len(self.vocab)\n",
    "            o_language_out.append(self.vocab[word])\n",
    "\n",
    "        original_title_out = []\n",
    "        original_title = self.original_title[item]\n",
    "        original_title = original_title.lower().split()\n",
    "        for word in original_title:\n",
    "            if word not in self.vocab:\n",
    "                self.vocab[word] = len(self.vocab)\n",
    "            original_title_out.append(self.vocab[word])\n",
    "\n",
    "        overview_out = []\n",
    "        overview = self.overview[item]\n",
    "        overview = overview.lower().split()\n",
    "        for word in overview:\n",
    "            gs = word.find('.')\n",
    "            if gs is not None:\n",
    "                word = word.replace('.', '')\n",
    "            if word not in self.vocab:\n",
    "                self.vocab[word] = len(self.vocab)\n",
    "            overview_out.append(self.vocab[word])\n",
    "\n",
    "        production_companies_out = []\n",
    "        production_companies = str(self.production_companies[item])\n",
    "        production_companies = ast.literal_eval(production_companies)\n",
    "\n",
    "        for i in range(len(production_companies)):\n",
    "            spa = production_companies[i]['name'].lower().split()\n",
    "            for word in spa:\n",
    "                gs = word.find('.')\n",
    "                if gs is not None:\n",
    "                    word = word.replace('.', '')\n",
    "                if word not in self.vocab:\n",
    "                    self.vocab[word] = len(self.vocab)\n",
    "                production_companies_out.append(self.vocab[word])\n",
    "\n",
    "        production_countries_out = []\n",
    "        production_countries = str(self.production_countries[item])\n",
    "        production_countries = ast.literal_eval(production_countries)\n",
    "        for i in range(len(production_countries)):\n",
    "            spa = production_companies[i]['name'].lower().split()\n",
    "\n",
    "            for word in spa:\n",
    "                gs = word.find('.')\n",
    "                if gs is not None:\n",
    "                    word = word.replace('.', '')\n",
    "                if word not in self.vocab:\n",
    "                    self.vocab[word] = len(self.vocab)\n",
    "                production_countries_out.append(self.vocab[word])\n",
    "\n",
    "        release_date_out = []\n",
    "        release_date = self.release_date[item]\n",
    "        release_date = release_date.lower().split()\n",
    "        for word in release_date:\n",
    "            if word not in self.vocab:\n",
    "                self.vocab[word] = len(self.vocab)\n",
    "            release_date_out.append(self.vocab[word])\n",
    "\n",
    "        revenue_out = []\n",
    "        revenue = self.revenue[item]\n",
    "        revenue_out.append(revenue)\n",
    "\n",
    "        spoken_languages_out = []\n",
    "        spoken_languages = str(self.spoken_languages[item])\n",
    "        spoken_languages = ast.literal_eval(spoken_languages)\n",
    "        for i in range(len(spoken_languages)):\n",
    "            spa = spoken_languages[i]['name'].lower().split()\n",
    "            for word in spa:\n",
    "                gs = word.find('.')\n",
    "                if gs is not None:\n",
    "                    word = word.replace('.', '')\n",
    "                if word not in self.vocab:\n",
    "                    self.vocab[word] = len(self.vocab)\n",
    "                spoken_languages_out.append(self.vocab[word])\n",
    "\n",
    "        status_out = []\n",
    "        status = self.status[item]\n",
    "        status = status.lower().split()\n",
    "        for word in status:\n",
    "            gs = word.find('.')\n",
    "            if gs is not None:\n",
    "                word = word.replace('.', '')\n",
    "            if word not in self.vocab:\n",
    "                self.vocab[word] = len(self.vocab)\n",
    "            status_out.append(self.vocab[word])\n",
    "\n",
    "        tagline_out = []\n",
    "\n",
    "        if self.tagline[item] != 'nan':\n",
    "            tagline = 0\n",
    "        else:\n",
    "            tagline = self.tagline[item]\n",
    "\n",
    "        # tagline = self.tagline[item] if self.tagline[item] != 'nan' else 0\n",
    "\n",
    "        tagline = str(tagline)\n",
    "        tagline_out.append(tagline)\n",
    "\n",
    "        title_out = []\n",
    "        tittle = self.tittle[item]\n",
    "        tittle = tittle.lower().split()\n",
    "        for word in tittle:\n",
    "            gs = word.find('.')\n",
    "            if gs is not None:\n",
    "                word = word.replace('.', '')\n",
    "            if word not in self.vocab:\n",
    "                self.vocab[word] = len(self.vocab)\n",
    "            title_out.append(self.vocab[word])\n",
    "\n",
    "        video_out = []\n",
    "        video = str(self.video[item])\n",
    "        video = video.lower().split()\n",
    "        for word in video:\n",
    "            gs = word.find('.')\n",
    "            if gs is not None:\n",
    "                word = word.replace('.', '')\n",
    "            if word not in self.vocab:\n",
    "                self.vocab[word] = len(self.vocab)\n",
    "            video_out.append(self.vocab[word])\n",
    "\n",
    "        vote_average_out = []\n",
    "        vote_average = self.vote_average[item]\n",
    "        vote_average_out.append(vote_average)\n",
    "\n",
    "        vote_count_out = []\n",
    "        vote_count = self.vote_count[item]\n",
    "        vote_count_out.append(vote_count)\n",
    "        print(tagline_out)\n",
    "        outputs = {\n",
    "            'adult': np.array(adult_out,dtype=np.float64),\n",
    "            'belongs_to_collection': np.array(belongs_to_collection_out,dtype=np.float64),\n",
    "            'budget': np.array(int(self.budget[item]),dtype=np.float64),\n",
    "            'original_language': np.array(o_language_out,dtype=np.float64),\n",
    "            'original_title': np.array(original_title_out,dtype=np.float64),\n",
    "            'overview': np.array(overview_out,dtype=np.float64),\n",
    "            'popularity': np.array((float(self.popularity[item])),dtype=np.float64),\n",
    "            'production_companies': np.array(production_companies_out,dtype=np.float64),\n",
    "            'production_countries': np.array(production_countries_out,dtype=np.float64),\n",
    "            'release_date': np.array(release_date_out,dtype=np.float64),\n",
    "            'revenue': np.array(revenue_out,dtype=np.float64),\n",
    "            'runtime': np.array(self.runtime[item],dtype=np.float64),\n",
    "            'spoken_languages': np.array(spoken_languages_out,dtype=np.float64),\n",
    "            'status': np.array(status_out,dtype=np.float64),\n",
    "            'tagline': np.array(int(float(tagline_out[0])),dtype=np.float64),\n",
    "            'title': np.array(title_out,dtype=np.float64),\n",
    "            'video': np.array(video_out,dtype=np.float64),\n",
    "            'vote_average': np.array(vote_average_out,dtype=np.float64),\n",
    "            'vote_count': np.array(vote_count_out,dtype=np.float64),\n",
    "        }\n",
    "        targets = {\n",
    "            'genres': np.array(genres_out,dtype=np.float64),\n",
    "        }\n",
    "\n",
    "        return outputs, targets"
   ],
   "metadata": {
    "collapsed": false,
    "pycharm": {
     "name": "#%%\n"
    }
   }
  },
  {
   "cell_type": "code",
   "execution_count": 295,
   "outputs": [
    {
     "name": "stdout",
     "output_type": "stream",
     "text": [
      "['0']\n",
      "{'adult': array([0.]), 'belongs_to_collection': array([1., 2., 3.]), 'budget': array(30000000.), 'original_language': array([7.]), 'original_title': array([1., 2.]), 'overview': array([ 8.,  9., 10., 11., 12., 13., 14., 15., 16., 17., 18., 11., 19.,\n",
      "       20., 21., 22., 23., 24., 25., 26., 27., 28., 16., 29., 15., 11.,\n",
      "       30., 31., 32., 33., 21., 34., 35., 36., 37., 21., 38., 31., 39.,\n",
      "       40., 41., 24., 42., 43., 44., 45., 46., 47., 40., 48.]), 'popularity': array(21.946943), 'production_companies': array([49.,  4., 50.]), 'production_countries': array([49.,  4., 50.]), 'release_date': array([51.]), 'revenue': array([3.73554033e+08]), 'runtime': array(81.), 'spoken_languages': array([52.]), 'status': array([53.]), 'tagline': array(0.), 'title': array([1., 2.]), 'video': array([0.]), 'vote_average': array([7.7]), 'vote_count': array([5415.])}\n"
     ]
    }
   ],
   "source": [
    "dsm = DataSetManual(data_csv)\n",
    "out, tar = dsm.__getitem__(0)\n",
    "print(out)"
   ],
   "metadata": {
    "collapsed": false,
    "pycharm": {
     "name": "#%%\n"
    }
   }
  },
  {
   "cell_type": "code",
   "execution_count": 296,
   "outputs": [
    {
     "name": "stdout",
     "output_type": "stream",
     "text": [
      "{'genres': array([4., 5., 6.])}\n",
      "led by woody andys toys live happily in his room until andys birthday brings buzz lightyear onto the scene afraid of losing his place in andys heart woody plots against buzz but when circumstances separate buzz and woody from their owner the duo eventually learns to put aside their differences\n"
     ]
    }
   ],
   "source": [
    "print(tar)\n",
    "print(dsm.translate(out['overview']))"
   ],
   "metadata": {
    "collapsed": false,
    "pycharm": {
     "name": "#%%\n"
    }
   }
  },
  {
   "cell_type": "code",
   "execution_count": 297,
   "outputs": [],
   "source": [
    "dataLd = DataLoader(\n",
    "    dsm,\n",
    "    batch_size=16,\n",
    "    num_workers=4,\n",
    "    pin_memory=True\n",
    ")"
   ],
   "metadata": {
    "collapsed": false,
    "pycharm": {
     "name": "#%%\n"
    }
   }
  },
  {
   "cell_type": "code",
   "execution_count": 301,
   "outputs": [],
   "source": [
    "class Net(nn.Module):\n",
    "    def __init__(self,\n",
    "                 num_embedding_1:int=50000,\n",
    "                 embedding_dim_1:int=400,\n",
    "                 num_embedding_2:int=40000,\n",
    "                 embedding_dim_2:int=400,\n",
    "                 num_embedding_3:int=50000,\n",
    "                 embedding_dim_3:int=300,\n",
    "                 num_embedding_4:int=50000,\n",
    "                 embedding_dim_4:int=100,\n",
    "                 lstm_layers_1:int=1,\n",
    "                 lstm_hidden_num_1:int=15,\n",
    "                 lstm_layers_2:int=1,\n",
    "                 lstm_hidden_num_2:int=15,\n",
    "                 lstm_layers_3:int=1,\n",
    "                 lstm_hidden_num_3:int=15,\n",
    "                 lstm_layers_4:int=1,\n",
    "                 lstm_hidden_num_4:int=15,\n",
    "\n",
    "                 output_size:int=15):\n",
    "        super(Net, self).__init__()\n",
    "        self.embedding_layer_1 = nn.Embedding(num_embeddings=num_embedding_1,embedding_dim=embedding_dim_1)\n",
    "        self.embedding_layer_2 = nn.Embedding(num_embeddings=num_embedding_2,embedding_dim=embedding_dim_2)\n",
    "        self.embedding_layer_3 = nn.Embedding(num_embeddings=num_embedding_3,embedding_dim=embedding_dim_3)\n",
    "        self.embedding_layer_4 = nn.Embedding(num_embeddings=num_embedding_4,embedding_dim=embedding_dim_4)\n",
    "        self.lstm_1 = nn.LSTM(num_layers=lstm_layers_1,hidden_size=lstm_hidden_num_1,input_size=embedding_dim_1)\n",
    "        self.lstm_1 = nn.LSTM(num_layers=lstm_layers_2,hidden_size=lstm_hidden_num_2,input_size=embedding_dim_2)\n",
    "        self.lstm_1 = nn.LSTM(num_layers=lstm_layers_3,hidden_size=lstm_hidden_num_3,input_size=embedding_dim_3)\n",
    "        self.lstm_1 = nn.LSTM(num_layers=lstm_layers_4,hidden_size=lstm_hidden_num_4,input_size=embedding_dim_4)\n",
    "\n",
    "        self.fc0_1 = nn.Linear(lstm_hidden_num_1,lstm_hidden_num_1*2)\n",
    "        self.relu_0_1 = nn.ReLU()\n",
    "        self.fc1_1 = nn.Linear(lstm_hidden_num_1*2,4)\n",
    "        self.relu_1_1 = nn.ReLU()\n",
    "\n",
    "        self.fc0_2 = nn.Linear(lstm_hidden_num_2,lstm_hidden_num_2*2)\n",
    "        self.relu_0_2 = nn.ReLU()\n",
    "        self.fc1_2 = nn.Linear(lstm_hidden_num_2*2,4)\n",
    "        self.relu_1_2 = nn.ReLU()\n",
    "\n",
    "        self.fc0_3 = nn.Linear(lstm_hidden_num_3,lstm_hidden_num_3*2)\n",
    "        self.relu_0_3 = nn.ReLU()\n",
    "        self.fc1_3 = nn.Linear(lstm_hidden_num_4*2,4)\n",
    "        self.relu_1_3 = nn.ReLU()\n",
    "\n",
    "        self.fc0_4 = nn.Linear(lstm_hidden_num_4,lstm_hidden_num_4*2)\n",
    "        self.relu_0_4 = nn.ReLU()\n",
    "        self.fc1_4 = nn.Linear(lstm_hidden_num_4*2,4)\n",
    "        self.relu_1_4 = nn.ReLU()\n",
    "\n",
    "        self.output_layer = nn.Linear(16,16)\n",
    "        self.softmax = nn.Softmax()"
   ],
   "metadata": {
    "collapsed": false,
    "pycharm": {
     "name": "#%%\n"
    }
   }
  },
  {
   "cell_type": "code",
   "execution_count": null,
   "outputs": [],
   "source": [
    "def train(data_loader,epochs:int=50):\n",
    "\n",
    "    for epoch in range(epochs):\n",
    "        for x, y in data_loader:\n",
    "            adult_x = torch.from_numpy(x['adult'])\n",
    "            belongs_to_collection_x = torch.from_numpy(x['belongs_to_collection'])\n",
    "            budget_x = torch.from_numpy(x['budget'])\n",
    "            original_language_x = torch.from_numpy(x['original_language'])\n",
    "            original_title_x = torch.from_numpy(x['original_title'])\n",
    "            overview_x = torch.from_numpy(x['overview'])\n",
    "            popularity_x = torch.from_numpy(x['popularity'])\n",
    "            production_companies_x = torch.from_numpy(x['production_companies'])\n",
    "            production_countries_x = torch.from_numpy(x['production_countries'])\n",
    "            release_date_x = torch.from_numpy(x['release_date'])\n",
    "            revenue_x = torch.from_numpy(x['revenue'])\n",
    "            runtime_x = torch.from_numpy(x['runtime'])\n",
    "            spoken_languages_x = torch.from_numpy(x['spoken_languages'])\n",
    "            status_x = torch.from_numpy(x['status'])\n",
    "            tagline_x = torch.from_numpy(x['tagline'])\n",
    "            title_x = torch.from_numpy(x['title'])\n",
    "            video_x = torch.from_numpy(x['video'])\n",
    "            vote_average_x = torch.from_numpy(x['vote_average'])\n",
    "            vote_count_x = torch.from_numpy(x['vote_count'])\n",
    "            genres_y = torch.from_numpy(y['genres'])\n"
   ],
   "metadata": {
    "collapsed": false,
    "pycharm": {
     "name": "#%%\n",
     "is_executing": true
    }
   }
  },
  {
   "cell_type": "code",
   "execution_count": null,
   "outputs": [],
   "source": [],
   "metadata": {
    "collapsed": false,
    "pycharm": {
     "name": "#%%\n"
    }
   }
  }
 ],
 "metadata": {
  "kernelspec": {
   "display_name": "Python 3",
   "language": "python",
   "name": "python3"
  },
  "language_info": {
   "codemirror_mode": {
    "name": "ipython",
    "version": 2
   },
   "file_extension": ".py",
   "mimetype": "text/x-python",
   "name": "python",
   "nbconvert_exporter": "python",
   "pygments_lexer": "ipython2",
   "version": "2.7.6"
  }
 },
 "nbformat": 4,
 "nbformat_minor": 0
}